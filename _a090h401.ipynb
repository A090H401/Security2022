{
  "nbformat": 4,
  "nbformat_minor": 0,
  "metadata": {
    "colab": {
      "provenance": [],
      "collapsed_sections": [],
      "include_colab_link": true
    },
    "kernelspec": {
      "name": "python3",
      "display_name": "Python 3"
    },
    "language_info": {
      "name": "python"
    }
  },
  "cells": [
    {
      "cell_type": "markdown",
      "metadata": {
        "id": "view-in-github",
        "colab_type": "text"
      },
      "source": [
        "<a href=\"https://colab.research.google.com/github/A090H401/Security2022/blob/main/_a090h401.ipynb\" target=\"_parent\"><img src=\"https://colab.research.google.com/assets/colab-badge.svg\" alt=\"Open In Colab\"/></a>"
      ]
    },
    {
      "cell_type": "markdown",
      "source": [
        "# HASH 雜湊函數\n",
        "\n",
        "Mydeargreatteacher\n",
        "A090H401\n",
        "- md5\n",
        "- sha1\n",
        "\n",
        "\n",
        "\n",
        "- linux指令\n",
        "- md5sum\n",
        "- Colab使用方式 : !md5sum 檔案名稱"
      ],
      "metadata": {
        "id": "Y82fcaiA4Bhq"
      }
    },
    {
      "cell_type": "code",
      "execution_count": null,
      "metadata": {
        "colab": {
          "base_uri": "https://localhost:8080/"
        },
        "id": "X1ckxy5r3PBj",
        "outputId": "45f80379-87d1-4ff6-f4dd-456571cedfdd"
      },
      "outputs": [
        {
          "output_type": "stream",
          "name": "stdout",
          "text": [
            "Usage: md5sum [OPTION]... [FILE]...\n",
            "Print or check MD5 (128-bit) checksums.\n",
            "\n",
            "With no FILE, or when FILE is -, read standard input.\n",
            "\n",
            "  -b, --binary         read in binary mode\n",
            "  -c, --check          read MD5 sums from the FILEs and check them\n",
            "      --tag            create a BSD-style checksum\n",
            "  -t, --text           read in text mode (default)\n",
            "\n",
            "The following five options are useful only when verifying checksums:\n",
            "      --ignore-missing  don't fail or report status for missing files\n",
            "      --quiet          don't print OK for each successfully verified file\n",
            "      --status         don't output anything, status code shows success\n",
            "      --strict         exit non-zero for improperly formatted checksum lines\n",
            "  -w, --warn           warn about improperly formatted checksum lines\n",
            "\n",
            "      --help     display this help and exit\n",
            "      --version  output version information and exit\n",
            "\n",
            "The sums are computed as described in RFC 1321.  When checking, the input\n",
            "should be a former output of this program.  The default mode is to print a\n",
            "line with checksum, a space, a character indicating input mode ('*' for binary,\n",
            "' ' for text or where binary is insignificant), and name for each FILE.\n",
            "\n",
            "GNU coreutils online help: <http://www.gnu.org/software/coreutils/>\n",
            "Full documentation at: <http://www.gnu.org/software/coreutils/md5sum>\n",
            "or available locally via: info '(coreutils) md5sum invocation'\n"
          ]
        }
      ],
      "source": [
        "!md5sum --help"
      ]
    },
    {
      "cell_type": "code",
      "source": [
        "!echo IamA090H401 > 1005.txt"
      ],
      "metadata": {
        "id": "DkngeX_W3aFB"
      },
      "execution_count": null,
      "outputs": []
    },
    {
      "cell_type": "code",
      "source": [
        "!cat 1005.txt"
      ],
      "metadata": {
        "colab": {
          "base_uri": "https://localhost:8080/"
        },
        "id": "fhqQV5Hn3lZK",
        "outputId": "5b693d26-85e4-4b6d-a9b2-d23a9bf323c9"
      },
      "execution_count": null,
      "outputs": [
        {
          "output_type": "stream",
          "name": "stdout",
          "text": [
            "IamA090H401\n"
          ]
        }
      ]
    },
    {
      "cell_type": "code",
      "source": [
        "!md5sum 1005.txt"
      ],
      "metadata": {
        "colab": {
          "base_uri": "https://localhost:8080/"
        },
        "id": "SXdikq8g3rqI",
        "outputId": "c754befb-434e-4100-926e-25ac0b5d67ec"
      },
      "execution_count": null,
      "outputs": [
        {
          "output_type": "stream",
          "name": "stdout",
          "text": [
            "af8b7d97893296366cf8d180afa0f155  1005.txt\n"
          ]
        }
      ]
    },
    {
      "cell_type": "code",
      "source": [
        "!echo iamA090H401 > 1005a.txt"
      ],
      "metadata": {
        "id": "MOQDpj3k3qFC"
      },
      "execution_count": null,
      "outputs": []
    },
    {
      "cell_type": "code",
      "source": [
        "!cat 1005a.txt"
      ],
      "metadata": {
        "colab": {
          "base_uri": "https://localhost:8080/"
        },
        "id": "R4uYcVkn32Wl",
        "outputId": "1b9c6d52-de1d-4f2a-a75c-2bd8da9bd031"
      },
      "execution_count": null,
      "outputs": [
        {
          "output_type": "stream",
          "name": "stdout",
          "text": [
            "iamA090H401\n"
          ]
        }
      ]
    },
    {
      "cell_type": "code",
      "source": [
        "!md5sum 1005a.txt"
      ],
      "metadata": {
        "colab": {
          "base_uri": "https://localhost:8080/"
        },
        "id": "prBWuC4O36yx",
        "outputId": "b36b7f8c-80b6-4bdb-9a1a-f2dc0adc4c67"
      },
      "execution_count": null,
      "outputs": [
        {
          "output_type": "stream",
          "name": "stdout",
          "text": [
            "827e725e37277a76c290639804e392fd  1005a.txt\n"
          ]
        }
      ]
    }
  ]
}